{
 "cells": [
  {
   "cell_type": "markdown",
   "metadata": {},
   "source": [
    "## Transfer learning based on different Neural Networks together with Logistic Regression\n",
    "\n",
    "The main idea here is to try out different Neural Networks to feed into the logistic Regression Classifier."
   ]
  },
  {
   "cell_type": "code",
   "execution_count": 1,
   "metadata": {
    "collapsed": true
   },
   "outputs": [],
   "source": [
    "# plotting imports and setup\n",
    "%matplotlib inline\n",
    "import matplotlib\n",
    "import matplotlib.pyplot as plt\n",
    "import numpy as np\n",
    "matplotlib.rcParams['figure.figsize'] = [10,10]"
   ]
  },
  {
   "cell_type": "markdown",
   "metadata": {},
   "source": [
    "First we have to import the dataset."
   ]
  },
  {
   "cell_type": "code",
   "execution_count": 2,
   "metadata": {},
   "outputs": [
    {
     "name": "stderr",
     "output_type": "stream",
     "text": [
      "/Users/albert/miniconda2/lib/python2.7/site-packages/h5py/__init__.py:36: FutureWarning: Conversion of the second argument of issubdtype from `float` to `np.floating` is deprecated. In future, it will be treated as `np.float64 == np.dtype(float).type`.\n",
      "  from ._conv import register_converters as _register_converters\n",
      "Using TensorFlow backend.\n"
     ]
    }
   ],
   "source": [
    "from keras.preprocessing import image\n",
    "from os import listdir\n",
    "from keras.applications.vgg19 import preprocess_input\n",
    "\n",
    "fdir='Data/CERTH_ImageBlurDataset/TrainingSet/Naturally-Blurred/'\n",
    "files= listdir(fdir)\n",
    "X=[] #feature vector\n",
    "images=[]\n",
    "Y=[] #class vector (1='blurred', 0='in focus')\n",
    "for fn in files:\n",
    "    img_path = fdir+fn\n",
    "    x=image.load_img(img_path, target_size=(224, 224))\n",
    "    images.append(x)\n",
    "    x=image.img_to_array(x)\n",
    "    x = np.expand_dims(x, axis=0)\n",
    "    x = preprocess_input(x)\n",
    "    X.append(x)\n",
    "    Y.append(1)\n",
    "    \n",
    "fdir='Data/CERTH_ImageBlurDataset/TrainingSet/Undistorted/'\n",
    "files= listdir(fdir)\n",
    "for fn in files:\n",
    "    img_path = fdir+fn\n",
    "    x=image.load_img(img_path, target_size=(224, 224))\n",
    "    images.append(x)\n",
    "    x=image.img_to_array(x)\n",
    "    x = np.expand_dims(x, axis=0)\n",
    "    x = preprocess_input(x)\n",
    "    X.append(x)\n",
    "    Y.append(0)"
   ]
  },
  {
   "cell_type": "code",
   "execution_count": 3,
   "metadata": {
    "collapsed": true
   },
   "outputs": [],
   "source": [
    "X_train = X\n",
    "y_train = Y"
   ]
  },
  {
   "cell_type": "code",
   "execution_count": 4,
   "metadata": {
    "collapsed": true
   },
   "outputs": [],
   "source": [
    "import pandas as pd\n",
    "fn='Data/CERTH_ImageBlurDataset/EvaluationSet/NaturalBlurSet.xlsx'\n",
    "xl = np.array(pd.read_excel(fn))\n",
    "val={}\n",
    "for xx in xl:\n",
    "    val[xx[0]]=xx[1]"
   ]
  },
  {
   "cell_type": "code",
   "execution_count": 5,
   "metadata": {
    "collapsed": true
   },
   "outputs": [],
   "source": [
    "fdir='Data/CERTH_ImageBlurDataset/EvaluationSet/NaturalBlurSet/'\n",
    "files= listdir(fdir)\n",
    "X_test=[] #feature vector\n",
    "images=[]\n",
    "y_test=[] #class vector (1='blurred', 0='in focus')\n",
    "for fn in files:\n",
    "    img_path = fdir+fn\n",
    "    x=image.load_img(img_path, target_size=(224, 224))\n",
    "    images.append(x)\n",
    "    x=image.img_to_array(x)\n",
    "    x = np.expand_dims(x, axis=0)\n",
    "    x = preprocess_input(x)\n",
    "    X_test.append(x)\n",
    "    y_test.append((val[fn[:-4]]+1)/2)"
   ]
  },
  {
   "cell_type": "markdown",
   "metadata": {},
   "source": [
    "### Using VGG19 for feature extraction"
   ]
  },
  {
   "cell_type": "code",
   "execution_count": 7,
   "metadata": {},
   "outputs": [
    {
     "name": "stdout",
     "output_type": "stream",
     "text": [
      "Downloading data from https://github.com/fchollet/deep-learning-models/releases/download/v0.1/vgg19_weights_tf_dim_ordering_tf_kernels_notop.h5\n",
      "80142336/80134624 [==============================] - 10s 0us/step\n",
      "80150528/80134624 [==============================] - 10s 0us/step\n"
     ]
    }
   ],
   "source": [
    "from keras import applications\n",
    "\n",
    "model = applications.VGG19(include_top=False,weights='imagenet')\n",
    "\n",
    "X_train_ = []\n",
    "for xx in X_train:\n",
    "    X_train_.append( model.predict(xx) )\n",
    "    \n",
    "X_test_ = []\n",
    "for xx in X_test:\n",
    "    X_test_.append( model.predict(xx) )"
   ]
  },
  {
   "cell_type": "code",
   "execution_count": 8,
   "metadata": {
    "collapsed": true
   },
   "outputs": [],
   "source": [
    "reshape=np.shape(X_train_)[1]*np.shape(X_train_)[2]*np.shape(X_train_)[3]*np.shape(X_train_)[4]\n",
    "X_train__=np.array(X_train_).reshape(len(X_train_),reshape)\n",
    "X_test__=np.array(X_test_).reshape(len(X_test_),reshape)"
   ]
  },
  {
   "cell_type": "markdown",
   "metadata": {},
   "source": [
    "#### optimizing the hyperparameters of the Logistic Regression Classifier\n"
   ]
  },
  {
   "cell_type": "code",
   "execution_count": null,
   "metadata": {},
   "outputs": [
    {
     "name": "stderr",
     "output_type": "stream",
     "text": [
      "/Users/albert/miniconda2/lib/python2.7/site-packages/sklearn/linear_model/sag.py:326: ConvergenceWarning: The max_iter was reached which means the coef_ did not converge\n",
      "  \"the coef_ did not converge\", ConvergenceWarning)\n"
     ]
    }
   ],
   "source": [
    "from sklearn.model_selection import RandomizedSearchCV\n",
    "from scipy.stats import randint as sp_randint\n",
    "from scipy.stats import uniform as sp_uniform\n",
    "from sklearn.linear_model import LogisticRegression\n",
    "\n",
    "param_grid = {'C':  sp_uniform(0,10), \n",
    "              'intercept_scaling': sp_uniform(0,10),\n",
    "             'solver' : ['newton-cg', 'lbfgs', 'liblinear', 'sag', 'saga'],\n",
    "              'tol': sp_uniform(0,0.01)\n",
    "             }\n",
    "\n",
    "opt_grid_lr = {}\n",
    "\n",
    "grid = RandomizedSearchCV(LogisticRegression(),  param_distributions=param_grid,n_iter=100, cv=2)\n",
    "grid.fit(X_train__, y_train)\n",
    "opt_grid_lr=grid.best_params_\n",
    "\n",
    "lr = LogisticRegression(**opt_grid_lr).fit(X_train__,y_train)\n",
    "print 'LogisticRegression stats'\n",
    "print 'training score: ', lr.score(X_train__,y_train)\n",
    "print 'test score: ',lr.score(X_test__,y_test)\n",
    "print(\"best parameters: {}\".format(opt_grid_lr))"
   ]
  },
  {
   "cell_type": "code",
   "execution_count": null,
   "metadata": {
    "collapsed": true
   },
   "outputs": [],
   "source": []
  }
 ],
 "metadata": {
  "kernelspec": {
   "display_name": "Python 2",
   "language": "python",
   "name": "python2"
  },
  "language_info": {
   "codemirror_mode": {
    "name": "ipython",
    "version": 2
   },
   "file_extension": ".py",
   "mimetype": "text/x-python",
   "name": "python",
   "nbconvert_exporter": "python",
   "pygments_lexer": "ipython2",
   "version": "2.7.13"
  }
 },
 "nbformat": 4,
 "nbformat_minor": 2
}
