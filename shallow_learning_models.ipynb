{
 "cells": [
  {
   "cell_type": "markdown",
   "metadata": {},
   "source": [
    "## Trying 'shallow' models without Neural-Network based deep learning\n",
    "\n",
    "The main idea here is to try out different shallow models, which can then be compared to the Neural-Network based models. As the training with an input feature array of 224x224x3 is really long (even on the kaggle gpu kernels), no cross-validation is performed. Instead the parameters found in the ResNet50 notebook are used with the assumption, that they should generate reasonable models."
   ]
  },
  {
   "cell_type": "code",
   "execution_count": 1,
   "metadata": {
    "collapsed": true
   },
   "outputs": [],
   "source": [
    "# plotting imports and setup\n",
    "%matplotlib inline\n",
    "import matplotlib\n",
    "import matplotlib.pyplot as plt\n",
    "import numpy as np\n",
    "matplotlib.rcParams['figure.figsize'] = [10,10]\n",
    "from sklearn.model_selection import RandomizedSearchCV\n",
    "from scipy.stats import randint as sp_randint\n",
    "from scipy.stats import uniform as sp_uniform"
   ]
  },
  {
   "cell_type": "markdown",
   "metadata": {},
   "source": [
    "First we have to import the dataset."
   ]
  },
  {
   "cell_type": "code",
   "execution_count": 2,
   "metadata": {},
   "outputs": [
    {
     "name": "stderr",
     "output_type": "stream",
     "text": [
      "/Users/albert/miniconda2/lib/python2.7/site-packages/h5py/__init__.py:36: FutureWarning: Conversion of the second argument of issubdtype from `float` to `np.floating` is deprecated. In future, it will be treated as `np.float64 == np.dtype(float).type`.\n",
      "  from ._conv import register_converters as _register_converters\n",
      "Using TensorFlow backend.\n"
     ]
    }
   ],
   "source": [
    "from keras.preprocessing import image\n",
    "from os import listdir\n",
    "\n",
    "fdir='Data/CERTH_ImageBlurDataset/TrainingSet/Naturally-Blurred/'\n",
    "files= listdir(fdir)\n",
    "X=[] #feature vector\n",
    "images=[]\n",
    "Y=[] #class vector (1='blurred', 0='in focus')\n",
    "for fn in files:\n",
    "    img_path = fdir+fn\n",
    "    x=image.load_img(img_path, target_size=(224, 224))\n",
    "    images.append(x)\n",
    "    x=image.img_to_array(x)\n",
    "    X.append(x)\n",
    "    Y.append(1)\n",
    "    \n",
    "fdir='Data/CERTH_ImageBlurDataset/TrainingSet/Undistorted/'\n",
    "files= listdir(fdir)\n",
    "for fn in files:\n",
    "    img_path = fdir+fn\n",
    "    x=image.load_img(img_path, target_size=(224, 224))\n",
    "    images.append(x)\n",
    "    x=image.img_to_array(x)\n",
    "    X.append(x)\n",
    "    Y.append(0)"
   ]
  },
  {
   "cell_type": "code",
   "execution_count": 3,
   "metadata": {
    "collapsed": true
   },
   "outputs": [],
   "source": [
    "X_train = X\n",
    "y_train = Y"
   ]
  },
  {
   "cell_type": "code",
   "execution_count": 4,
   "metadata": {
    "collapsed": true
   },
   "outputs": [],
   "source": [
    "import pandas as pd\n",
    "fn='Data/CERTH_ImageBlurDataset/EvaluationSet/NaturalBlurSet.xlsx'\n",
    "xl = np.array(pd.read_excel(fn))\n",
    "val={}\n",
    "for xx in xl:\n",
    "    val[xx[0]]=xx[1]"
   ]
  },
  {
   "cell_type": "code",
   "execution_count": 5,
   "metadata": {
    "collapsed": true
   },
   "outputs": [],
   "source": [
    "fdir='Data/CERTH_ImageBlurDataset/EvaluationSet/NaturalBlurSet/'\n",
    "files= listdir(fdir)\n",
    "X_test=[] #feature vector\n",
    "images=[]\n",
    "y_test=[] #class vector (1='blurred', 0='in focus')\n",
    "for fn in files:\n",
    "    img_path = fdir+fn\n",
    "    x=image.load_img(img_path, target_size=(224, 224))\n",
    "    images.append(x)\n",
    "    x=image.img_to_array(x)\n",
    "    X_test.append(x)\n",
    "    y_test.append((val[fn[:-4]]+1)/2)"
   ]
  },
  {
   "cell_type": "code",
   "execution_count": 6,
   "metadata": {
    "collapsed": true
   },
   "outputs": [],
   "source": [
    "reshape=np.shape(X_train)[1]*np.shape(X_train)[2]*np.shape(X_train)[3]\n",
    "X_train__=np.array(X_train).reshape(len(X_train),reshape)\n",
    "X_test__=np.array(X_test).reshape(len(X_test),reshape)"
   ]
  },
  {
   "cell_type": "markdown",
   "metadata": {},
   "source": [
    "### Extra Trees Classifier"
   ]
  },
  {
   "cell_type": "code",
   "execution_count": 7,
   "metadata": {},
   "outputs": [
    {
     "name": "stdout",
     "output_type": "stream",
     "text": [
      "ExtraTreesClassifier stats\n",
      "training score:  0.9964705882352941\n",
      "test score:  0.604\n"
     ]
    }
   ],
   "source": [
    "from sklearn.ensemble import ExtraTreesClassifier\n",
    "\n",
    "#ExtraTreesClassifier\n",
    "opt_grid_etc = {'max_features': 0.38884100114920783, 'n_estimators': 41, 'max_depth': 15}\n",
    "\n",
    "etc = ExtraTreesClassifier(**opt_grid_etc).fit(X_train__,y_train)\n",
    "print 'ExtraTreesClassifier stats'\n",
    "print 'training score: ', etc.score(X_train__,y_train)\n",
    "print 'test score: ',etc.score(X_test__,y_test)"
   ]
  },
  {
   "cell_type": "markdown",
   "metadata": {},
   "source": [
    "### Gradient Boosting Classifier"
   ]
  },
  {
   "cell_type": "code",
   "execution_count": 8,
   "metadata": {},
   "outputs": [
    {
     "name": "stdout",
     "output_type": "stream",
     "text": [
      "GradientBoostingClassifier stats\n",
      "training score:  1.0\n",
      "test score:  0.614\n"
     ]
    }
   ],
   "source": [
    "from sklearn.ensemble import GradientBoostingClassifier\n",
    "\n",
    "#GradientBoostingClassifier\n",
    "opt_grid_gbc = {'n_estimators': 3100, 'subsample': 0.6, 'learning_rate': 0.1, 'max_features': 0.30000000000000004}\n",
    "\n",
    "gbc = GradientBoostingClassifier(**opt_grid_gbc).fit(X_train__,y_train)\n",
    "print 'GradientBoostingClassifier stats'\n",
    "print 'training score: ', gbc.score(X_train__,y_train)\n",
    "print 'test score: ',gbc.score(X_test__,y_test)"
   ]
  },
  {
   "cell_type": "markdown",
   "metadata": {},
   "source": [
    "### KNeighbors Classifier"
   ]
  },
  {
   "cell_type": "code",
   "execution_count": 9,
   "metadata": {},
   "outputs": [
    {
     "name": "stdout",
     "output_type": "stream",
     "text": [
      "KNeighborsClassifier stats\n",
      "training score:  0.7858823529411765\n",
      "test score:  0.61\n"
     ]
    }
   ],
   "source": [
    "from sklearn.neighbors import KNeighborsClassifier\n",
    "\n",
    "#KNeighborsClassifier\n",
    "opt_grid_knc = {'n_neighbors': 18, 'leaf_size': 2}\n",
    "\n",
    "knc = KNeighborsClassifier(**opt_grid_knc).fit(X_train__,y_train)\n",
    "print 'KNeighborsClassifier stats'\n",
    "print 'training score: ', knc.score(X_train__,y_train)\n",
    "print 'test score: ',knc.score(X_test__,y_test)"
   ]
  },
  {
   "cell_type": "markdown",
   "metadata": {},
   "source": [
    "### Logistic Regression Classifier"
   ]
  },
  {
   "cell_type": "code",
   "execution_count": 10,
   "metadata": {},
   "outputs": [
    {
     "name": "stdout",
     "output_type": "stream",
     "text": [
      "LogisticRegression stats\n",
      "training score:  0.9788235294117648\n",
      "test score:  0.577\n"
     ]
    }
   ],
   "source": [
    "from sklearn.linear_model import LogisticRegression\n",
    "\n",
    "#Logistic Regression Classifier\n",
    "opt_grid_lr = {'C': 3.9798556575404085, 'intercept_scaling': 9.943977937493685, 'tol': 0.007399648733766915, 'solver': 'sag'}\n",
    "\n",
    "lr = LogisticRegression(**opt_grid_lr).fit(X_train__,y_train)\n",
    "print 'LogisticRegression stats'\n",
    "print 'training score: ', lr.score(X_train__,y_train)\n",
    "print 'test score: ',lr.score(X_test__,y_test)"
   ]
  },
  {
   "cell_type": "markdown",
   "metadata": {
    "collapsed": true
   },
   "source": [
    "### Random Forest Classifier"
   ]
  },
  {
   "cell_type": "code",
   "execution_count": 11,
   "metadata": {},
   "outputs": [
    {
     "name": "stdout",
     "output_type": "stream",
     "text": [
      "RandomForrestClassifier stats\n",
      "training score:  0.9929411764705882\n",
      "test score:  0.597\n"
     ]
    }
   ],
   "source": [
    "from sklearn.ensemble import RandomForestClassifier\n",
    "\n",
    "#RandomForrestClassifier\n",
    "opt_grid_rfc = {'max_features': 0.6118558223815502, 'n_estimators': 29, 'max_depth': 30}\n",
    "\n",
    "rfc = RandomForestClassifier(**opt_grid_rfc).fit(X_train__,y_train)\n",
    "print 'RandomForrestClassifier stats'\n",
    "print 'training score: ', rfc.score(X_train__,y_train)\n",
    "print 'test score: ',rfc.score(X_test__,y_test)"
   ]
  }
 ],
 "metadata": {
  "kernelspec": {
   "display_name": "Python 2",
   "language": "python",
   "name": "python2"
  },
  "language_info": {
   "codemirror_mode": {
    "name": "ipython",
    "version": 2
   },
   "file_extension": ".py",
   "mimetype": "text/x-python",
   "name": "python",
   "nbconvert_exporter": "python",
   "pygments_lexer": "ipython2",
   "version": "2.7.13"
  }
 },
 "nbformat": 4,
 "nbformat_minor": 2
}
