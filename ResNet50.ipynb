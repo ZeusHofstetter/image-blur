{
 "cells": [
  {
   "cell_type": "markdown",
   "metadata": {},
   "source": [
    "## Transfer learning based on ResNet50 together with different Classifiers\n",
    "\n",
    "The main idea here is to try out different Classifiers to process the output of ResNet50"
   ]
  },
  {
   "cell_type": "code",
   "execution_count": 1,
   "metadata": {
    "collapsed": true
   },
   "outputs": [],
   "source": [
    "# plotting imports and setup\n",
    "%matplotlib inline\n",
    "import matplotlib\n",
    "import matplotlib.pyplot as plt\n",
    "import numpy as np\n",
    "matplotlib.rcParams['figure.figsize'] = [10,10]"
   ]
  },
  {
   "cell_type": "markdown",
   "metadata": {},
   "source": [
    "### Using ResNet50 for feature extraction"
   ]
  },
  {
   "cell_type": "markdown",
   "metadata": {},
   "source": [
    "First we have to import the dataset."
   ]
  },
  {
   "cell_type": "code",
   "execution_count": 2,
   "metadata": {},
   "outputs": [
    {
     "name": "stderr",
     "output_type": "stream",
     "text": [
      "/Users/albert/miniconda2/lib/python2.7/site-packages/h5py/__init__.py:36: FutureWarning: Conversion of the second argument of issubdtype from `float` to `np.floating` is deprecated. In future, it will be treated as `np.float64 == np.dtype(float).type`.\n",
      "  from ._conv import register_converters as _register_converters\n",
      "Using TensorFlow backend.\n"
     ]
    }
   ],
   "source": [
    "from keras.preprocessing import image\n",
    "from os import listdir\n",
    "from keras.applications.resnet50 import preprocess_input\n",
    "\n",
    "fdir='Data/CERTH_ImageBlurDataset/TrainingSet/Naturally-Blurred/'\n",
    "files= listdir(fdir)\n",
    "X=[] #feature vector\n",
    "images=[]\n",
    "Y=[] #class vector (1='blurred', 0='in focus')\n",
    "for fn in files:\n",
    "    img_path = fdir+fn\n",
    "    x=image.load_img(img_path, target_size=(224, 224))\n",
    "    images.append(x)\n",
    "    x=image.img_to_array(x)\n",
    "    x = np.expand_dims(x, axis=0)\n",
    "    x = preprocess_input(x)\n",
    "    X.append(x)\n",
    "    Y.append(1)\n",
    "    \n",
    "fdir='Data/CERTH_ImageBlurDataset/TrainingSet/Undistorted/'\n",
    "files= listdir(fdir)\n",
    "for fn in files:\n",
    "    img_path = fdir+fn\n",
    "    x=image.load_img(img_path, target_size=(224, 224))\n",
    "    images.append(x)\n",
    "    x=image.img_to_array(x)\n",
    "    x = np.expand_dims(x, axis=0)\n",
    "    x = preprocess_input(x)\n",
    "    X.append(x)\n",
    "    Y.append(0)"
   ]
  },
  {
   "cell_type": "code",
   "execution_count": 3,
   "metadata": {
    "collapsed": true
   },
   "outputs": [],
   "source": [
    "X_train = X\n",
    "y_train = Y"
   ]
  },
  {
   "cell_type": "code",
   "execution_count": 4,
   "metadata": {
    "collapsed": true
   },
   "outputs": [],
   "source": [
    "import pandas as pd\n",
    "fn='Data/CERTH_ImageBlurDataset/EvaluationSet/NaturalBlurSet.xlsx'\n",
    "xl = np.array(pd.read_excel(fn))\n",
    "val={}\n",
    "for xx in xl:\n",
    "    val[xx[0]]=xx[1]"
   ]
  },
  {
   "cell_type": "code",
   "execution_count": 5,
   "metadata": {
    "collapsed": true
   },
   "outputs": [],
   "source": [
    "fdir='Data/CERTH_ImageBlurDataset/EvaluationSet/NaturalBlurSet/'\n",
    "files= listdir(fdir)\n",
    "X_test=[] #feature vector\n",
    "images=[]\n",
    "y_test=[] #class vector (1='blurred', 0='in focus')\n",
    "for fn in files:\n",
    "    img_path = fdir+fn\n",
    "    x=image.load_img(img_path, target_size=(224, 224))\n",
    "    images.append(x)\n",
    "    x=image.img_to_array(x)\n",
    "    x = np.expand_dims(x, axis=0)\n",
    "    x = preprocess_input(x)\n",
    "    X_test.append(x)\n",
    "    y_test.append((val[fn[:-4]]+1)/2)"
   ]
  },
  {
   "cell_type": "code",
   "execution_count": 6,
   "metadata": {},
   "outputs": [],
   "source": [
    "from keras import applications\n",
    "\n",
    "model = applications.ResNet50(include_top=False,weights='imagenet')\n",
    "\n",
    "X_train_ = []\n",
    "for xx in X_train:\n",
    "    X_train_.append( model.predict(xx) )\n",
    "    \n",
    "X_test_ = []\n",
    "for xx in X_test:\n",
    "    X_test_.append( model.predict(xx) )"
   ]
  },
  {
   "cell_type": "code",
   "execution_count": 7,
   "metadata": {
    "collapsed": true
   },
   "outputs": [],
   "source": [
    "reshape=np.shape(X_train_)[1]*np.shape(X_train_)[2]*np.shape(X_train_)[3]*np.shape(X_train_)[4]\n",
    "X_train__=np.array(X_train_).reshape(len(X_train_),reshape)\n",
    "X_test__=np.array(X_test_).reshape(len(X_test_),reshape)"
   ]
  },
  {
   "cell_type": "markdown",
   "metadata": {},
   "source": [
    "### Random Forest Classifier"
   ]
  },
  {
   "cell_type": "code",
   "execution_count": 8,
   "metadata": {},
   "outputs": [
    {
     "name": "stdout",
     "output_type": "stream",
     "text": [
      "Fitting 2 folds for each of 30 candidates, totalling 60 fits\n"
     ]
    },
    {
     "name": "stderr",
     "output_type": "stream",
     "text": [
      "[Parallel(n_jobs=1)]: Done  60 out of  60 | elapsed:  4.1min finished\n"
     ]
    },
    {
     "name": "stdout",
     "output_type": "stream",
     "text": [
      "RandomForrestClassifier stats\n",
      "training score:  0.9988235294117647\n",
      "test score:  0.753\n",
      "best parameters: {'max_features': 0.6118558223815502, 'n_estimators': 29, 'max_depth': 30}\n"
     ]
    }
   ],
   "source": [
    "from sklearn.model_selection import RandomizedSearchCV\n",
    "from scipy.stats import randint as sp_randint\n",
    "from scipy.stats import uniform as sp_uniform\n",
    "from sklearn.ensemble import RandomForestClassifier\n",
    "\n",
    "param_grid = {'n_estimators':  sp_randint(10,50),\n",
    "             'max_features': sp_uniform(0,1),\n",
    "             'max_depth':sp_randint(5,50)\n",
    "             }\n",
    "\n",
    "#RandomForrestClassifier\n",
    "opt_grid_rfc = {}\n",
    "\n",
    "grid = RandomizedSearchCV(RandomForestClassifier(),verbose=1,  param_distributions=param_grid,n_iter=30, cv=2)\n",
    "grid.fit(X_train__, y_train)\n",
    "opt_grid_rfc=grid.best_params_\n",
    "\n",
    "rfc = RandomForestClassifier(**opt_grid_rfc).fit(X_train__,y_train)\n",
    "print 'RandomForrestClassifier stats'\n",
    "print 'training score: ', rfc.score(X_train__,y_train)\n",
    "print 'test score: ',rfc.score(X_test__,y_test)\n",
    "print(\"best parameters: {}\".format(opt_grid_rfc))"
   ]
  },
  {
   "cell_type": "markdown",
   "metadata": {},
   "source": [
    "### Extra Trees Classifier"
   ]
  },
  {
   "cell_type": "code",
   "execution_count": 12,
   "metadata": {},
   "outputs": [
    {
     "name": "stdout",
     "output_type": "stream",
     "text": [
      "Fitting 2 folds for each of 30 candidates, totalling 60 fits\n"
     ]
    },
    {
     "name": "stderr",
     "output_type": "stream",
     "text": [
      "[Parallel(n_jobs=1)]: Done  60 out of  60 | elapsed:   53.5s finished\n"
     ]
    },
    {
     "name": "stdout",
     "output_type": "stream",
     "text": [
      "ExtraTreesClassifier stats\n",
      "training score:  0.9941176470588236\n",
      "test score:  0.736\n",
      "best parameters: {'max_features': 0.38884100114920783, 'n_estimators': 41, 'max_depth': 15}\n"
     ]
    }
   ],
   "source": [
    "from sklearn.ensemble import ExtraTreesClassifier\n",
    "\n",
    "param_grid = {'n_estimators':  sp_randint(10,50),\n",
    "             'max_features': sp_uniform(0,1),\n",
    "             'max_depth':sp_randint(5,50)\n",
    "             }\n",
    "\n",
    "#ExtraTreesClassifier\n",
    "opt_grid_etc = {}\n",
    "\n",
    "grid = RandomizedSearchCV(ExtraTreesClassifier(),verbose=1,  param_distributions=param_grid,n_iter=30, cv=2)\n",
    "grid.fit(X_train__, y_train)\n",
    "opt_grid_etc=grid.best_params_\n",
    "\n",
    "etc = ExtraTreesClassifier(**opt_grid_etc).fit(X_train__,y_train)\n",
    "print 'ExtraTreesClassifier stats'\n",
    "print 'training score: ', etc.score(X_train__,y_train)\n",
    "print 'test score: ',etc.score(X_test__,y_test)\n",
    "print(\"best parameters: {}\".format(opt_grid_etc))"
   ]
  },
  {
   "cell_type": "markdown",
   "metadata": {},
   "source": [
    "### Gradient Boosting Classifier"
   ]
  },
  {
   "cell_type": "code",
   "execution_count": 13,
   "metadata": {},
   "outputs": [
    {
     "name": "stdout",
     "output_type": "stream",
     "text": [
      "Fitting 2 folds for each of 30 candidates, totalling 60 fits\n"
     ]
    },
    {
     "name": "stderr",
     "output_type": "stream",
     "text": [
      "[Parallel(n_jobs=1)]: Done  60 out of  60 | elapsed: 12.8min finished\n"
     ]
    },
    {
     "name": "stdout",
     "output_type": "stream",
     "text": [
      "GradientBoostingClassifier stats\n",
      "training score:  1.0\n",
      "test score:  0.775\n",
      "best parameters: {'n_estimators': 3100, 'subsample': 0.6, 'learning_rate': 0.1, 'max_features': 0.30000000000000004}\n"
     ]
    }
   ],
   "source": [
    "from sklearn.ensemble import GradientBoostingClassifier\n",
    "\n",
    "param_grid = {'n_estimators':  np.arange(100,5000,500),'max_features': np.arange(0.1,1.1,0.1), \n",
    "              'learning_rate': np.arange(0.1,1.1,0.1),'subsample': np.arange(0.1,1.1,0.1)}\n",
    "\n",
    "#GradientBoostingClassifier\n",
    "opt_grid_gbc = {}\n",
    "\n",
    "grid = RandomizedSearchCV(GradientBoostingClassifier(),verbose=1,  param_distributions=param_grid,n_iter=30, cv=2)\n",
    "grid.fit(X_train__, y_train)\n",
    "opt_grid_gbc=grid.best_params_\n",
    "\n",
    "gbc = GradientBoostingClassifier(**opt_grid_gbc).fit(X_train__,y_train)\n",
    "print 'GradientBoostingClassifier stats'\n",
    "print 'training score: ', gbc.score(X_train__,y_train)\n",
    "print 'test score: ',gbc.score(X_test__,y_test)\n",
    "print(\"best parameters: {}\".format(opt_grid_gbc))"
   ]
  },
  {
   "cell_type": "markdown",
   "metadata": {},
   "source": [
    "### KNeighbors Classifier"
   ]
  },
  {
   "cell_type": "code",
   "execution_count": 14,
   "metadata": {},
   "outputs": [
    {
     "name": "stdout",
     "output_type": "stream",
     "text": [
      "Fitting 2 folds for each of 30 candidates, totalling 60 fits\n"
     ]
    },
    {
     "name": "stderr",
     "output_type": "stream",
     "text": [
      "[Parallel(n_jobs=1)]: Done  60 out of  60 | elapsed:  1.3min finished\n"
     ]
    },
    {
     "name": "stdout",
     "output_type": "stream",
     "text": [
      "KNeighborsClassifier stats\n",
      "training score:  0.8411764705882353\n",
      "test score:  0.668\n",
      "best parameters: {'n_neighbors': 18, 'leaf_size': 2}\n"
     ]
    }
   ],
   "source": [
    "from sklearn.neighbors import KNeighborsClassifier\n",
    "\n",
    "param_grid = {'n_neighbors':  sp_randint(1,200),\n",
    "              'leaf_size': sp_randint(1,200)\n",
    "             }\n",
    "\n",
    "#KNeighborsClassifier\n",
    "opt_grid_knc = {}\n",
    "\n",
    "grid = RandomizedSearchCV(KNeighborsClassifier(),verbose=1,  param_distributions=param_grid,n_iter=30, cv=2)\n",
    "grid.fit(X_train__, y_train)\n",
    "opt_grid_knc=grid.best_params_\n",
    "\n",
    "knc = KNeighborsClassifier(**opt_grid_knc).fit(X_train__,y_train)\n",
    "print 'KNeighborsClassifier stats'\n",
    "print 'training score: ', knc.score(X_train__,y_train)\n",
    "print 'test score: ',knc.score(X_test__,y_test)\n",
    "print(\"best parameters: {}\".format(opt_grid_knc))"
   ]
  },
  {
   "cell_type": "code",
   "execution_count": null,
   "metadata": {
    "collapsed": true
   },
   "outputs": [],
   "source": []
  }
 ],
 "metadata": {
  "kernelspec": {
   "display_name": "Python 2",
   "language": "python",
   "name": "python2"
  },
  "language_info": {
   "codemirror_mode": {
    "name": "ipython",
    "version": 2
   },
   "file_extension": ".py",
   "mimetype": "text/x-python",
   "name": "python",
   "nbconvert_exporter": "python",
   "pygments_lexer": "ipython2",
   "version": "2.7.13"
  }
 },
 "nbformat": 4,
 "nbformat_minor": 2
}
