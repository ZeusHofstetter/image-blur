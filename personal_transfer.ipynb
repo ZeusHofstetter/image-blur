{
 "cells": [
  {
   "cell_type": "markdown",
   "metadata": {},
   "source": [
    "## Transfer learning based on ResNet50 with Logistic Regression Classifier for personal image-blur dataset"
   ]
  },
  {
   "cell_type": "code",
   "execution_count": 11,
   "metadata": {
    "collapsed": true
   },
   "outputs": [],
   "source": [
    "# plotting imports and setup\n",
    "%matplotlib inline\n",
    "import matplotlib\n",
    "import matplotlib.pyplot as plt\n",
    "import numpy as np\n",
    "matplotlib.rcParams['figure.figsize'] = [10,10]"
   ]
  },
  {
   "cell_type": "markdown",
   "metadata": {},
   "source": [
    "### Using ResNet50 for feature extraction"
   ]
  },
  {
   "cell_type": "markdown",
   "metadata": {},
   "source": [
    "First we have to import the training dataset."
   ]
  },
  {
   "cell_type": "code",
   "execution_count": 12,
   "metadata": {},
   "outputs": [],
   "source": [
    "from keras.preprocessing import image\n",
    "from os import listdir\n",
    "from keras.applications.resnet50 import preprocess_input\n",
    "\n",
    "fdir='Data/CERTH_ImageBlurDataset/TrainingSet/Naturally-Blurred/'\n",
    "files= listdir(fdir)\n",
    "X=[] #feature vector\n",
    "images=[]\n",
    "Y=[] #class vector (1='blurred', 0='in focus')\n",
    "for fn in files:\n",
    "    img_path = fdir+fn\n",
    "    x=image.load_img(img_path, target_size=(224, 224))\n",
    "    images.append(x)\n",
    "    x=image.img_to_array(x)\n",
    "    x = np.expand_dims(x, axis=0)\n",
    "    x = preprocess_input(x)\n",
    "    X.append(x)\n",
    "    Y.append(1)\n",
    "    \n",
    "fdir='Data/CERTH_ImageBlurDataset/TrainingSet/Undistorted/'\n",
    "files= listdir(fdir)\n",
    "for fn in files:\n",
    "    img_path = fdir+fn\n",
    "    x=image.load_img(img_path, target_size=(224, 224))\n",
    "    images.append(x)\n",
    "    x=image.img_to_array(x)\n",
    "    x = np.expand_dims(x, axis=0)\n",
    "    x = preprocess_input(x)\n",
    "    X.append(x)\n",
    "    Y.append(0)"
   ]
  },
  {
   "cell_type": "code",
   "execution_count": 13,
   "metadata": {
    "collapsed": true
   },
   "outputs": [],
   "source": [
    "X_train = X\n",
    "y_train = Y"
   ]
  },
  {
   "cell_type": "markdown",
   "metadata": {},
   "source": [
    "Now we import the personal dataset for testing."
   ]
  },
  {
   "cell_type": "code",
   "execution_count": 14,
   "metadata": {},
   "outputs": [],
   "source": [
    "from keras.preprocessing import image\n",
    "from os import listdir\n",
    "from keras.applications.resnet50 import preprocess_input\n",
    "\n",
    "fdir='Data/Personal_ImageBlurDataset/blurred/'\n",
    "files= listdir(fdir)\n",
    "X_test=[] #feature vector\n",
    "images=[]\n",
    "y_test=[] #class vector (1='blurred', 0='in focus')\n",
    "for fn in files:\n",
    "    img_path = fdir+fn\n",
    "    x=image.load_img(img_path, target_size=(224, 224))\n",
    "    images.append(x)\n",
    "    x=image.img_to_array(x)\n",
    "    x = np.expand_dims(x, axis=0)\n",
    "    x = preprocess_input(x)\n",
    "    X_test.append(x)\n",
    "    y_test.append(1)\n",
    "    \n",
    "fdir='Data/Personal_ImageBlurDataset/undistorted/'\n",
    "files= listdir(fdir)\n",
    "for fn in files:\n",
    "    img_path = fdir+fn\n",
    "    x=image.load_img(img_path, target_size=(224, 224))\n",
    "    images.append(x)\n",
    "    x=image.img_to_array(x)\n",
    "    x = np.expand_dims(x, axis=0)\n",
    "    x = preprocess_input(x)\n",
    "    X_test.append(x)\n",
    "    y_test.append(0)"
   ]
  },
  {
   "cell_type": "code",
   "execution_count": 15,
   "metadata": {},
   "outputs": [],
   "source": [
    "#loading of ResNet50\n",
    "from keras import applications\n",
    "\n",
    "model = applications.ResNet50(include_top=False,weights='imagenet')\n",
    "\n",
    "X_train_ = []\n",
    "for xx in X_train:\n",
    "    X_train_.append( model.predict(xx) )\n",
    "    \n",
    "X_test_ = []\n",
    "for xx in X_test:\n",
    "    X_test_.append( model.predict(xx) )"
   ]
  },
  {
   "cell_type": "code",
   "execution_count": 16,
   "metadata": {
    "collapsed": true
   },
   "outputs": [],
   "source": [
    "reshape=np.shape(X_train_)[1]*np.shape(X_train_)[2]*np.shape(X_train_)[3]*np.shape(X_train_)[4]\n",
    "X_train__=np.array(X_train_).reshape(len(X_train_),reshape)\n",
    "X_test__=np.array(X_test_).reshape(len(X_test_),reshape)"
   ]
  },
  {
   "cell_type": "markdown",
   "metadata": {},
   "source": [
    "#### prediction of the personal dataset\n",
    "For the Logistic Regression we use the parameters found in the transfer_learning_v2 script. <br>\n",
    "best parameters: {'C': 3.9798556575404085, 'intercept_scaling': 9.943977937493685, 'tol': 0.007399648733766915, 'solver': 'sag'}\n"
   ]
  },
  {
   "cell_type": "code",
   "execution_count": 18,
   "metadata": {},
   "outputs": [
    {
     "name": "stdout",
     "output_type": "stream",
     "text": [
      "LogisticRegression stats\n",
      "training score:  1.0\n",
      "test score:  0.9186046511627907\n"
     ]
    }
   ],
   "source": [
    "from sklearn.linear_model import LogisticRegression\n",
    "\n",
    "opt_grid_lr = {'C': 3.9798556575404085, 'intercept_scaling': 9.943977937493685, 'tol': 0.007399648733766915, 'solver': 'sag'}\n",
    "\n",
    "lr = LogisticRegression(**opt_grid_lr).fit(X_train__,y_train)\n",
    "print 'LogisticRegression stats'\n",
    "print 'training score: ', lr.score(X_train__,y_train)\n",
    "print 'test score: ',lr.score(X_test__,y_test)"
   ]
  },
  {
   "cell_type": "markdown",
   "metadata": {},
   "source": [
    "### Gradient Boosting Classifier\n",
    "As the Logistic Regression Classifier performs much better than for the CERTH test set, we also try the Gradient Boosting Classifier to see if the test accuracy further improves."
   ]
  },
  {
   "cell_type": "code",
   "execution_count": 22,
   "metadata": {},
   "outputs": [
    {
     "name": "stdout",
     "output_type": "stream",
     "text": [
      "GradientBoostingClassifier stats\n",
      "training score:  1.0\n",
      "test score:  0.9302325581395349\n"
     ]
    }
   ],
   "source": [
    "from sklearn.ensemble import GradientBoostingClassifier\n",
    "#GradientBoostingClassifier\n",
    "opt_grid_gbc = {'n_estimators': 3100, 'subsample': 0.6, 'learning_rate': 0.1, 'max_features': 0.30000000000000004}\n",
    "\n",
    "gbc = GradientBoostingClassifier(**opt_grid_gbc).fit(X_train__,y_train)\n",
    "print 'GradientBoostingClassifier stats'\n",
    "print 'training score: ', gbc.score(X_train__,y_train)\n",
    "print 'test score: ',gbc.score(X_test__,y_test)"
   ]
  },
  {
   "cell_type": "markdown",
   "metadata": {},
   "source": [
    "### Random Forest Classifier\n",
    "As the Logistic Regression Classifier performs much better than for the CERTH test set, we also try the Random Forest Classifier to see if the test accuracy further improves."
   ]
  },
  {
   "cell_type": "code",
   "execution_count": 20,
   "metadata": {},
   "outputs": [
    {
     "name": "stdout",
     "output_type": "stream",
     "text": [
      "RandomForrestClassifier stats\n",
      "training score:  0.9988235294117647\n",
      "test score:  0.8488372093023255\n"
     ]
    }
   ],
   "source": [
    "from sklearn.ensemble import RandomForestClassifier\n",
    "\n",
    "#RandomForrestClassifier\n",
    "opt_grid_rfc = {'max_features': 0.6118558223815502, 'n_estimators': 29, 'max_depth': 30}\n",
    "\n",
    "rfc = RandomForestClassifier(**opt_grid_rfc).fit(X_train__,y_train)\n",
    "print 'RandomForrestClassifier stats'\n",
    "print 'training score: ', rfc.score(X_train__,y_train)\n",
    "print 'test score: ',rfc.score(X_test__,y_test)"
   ]
  },
  {
   "cell_type": "code",
   "execution_count": null,
   "metadata": {
    "collapsed": true
   },
   "outputs": [],
   "source": []
  }
 ],
 "metadata": {
  "kernelspec": {
   "display_name": "Python 2",
   "language": "python",
   "name": "python2"
  },
  "language_info": {
   "codemirror_mode": {
    "name": "ipython",
    "version": 2
   },
   "file_extension": ".py",
   "mimetype": "text/x-python",
   "name": "python",
   "nbconvert_exporter": "python",
   "pygments_lexer": "ipython2",
   "version": "2.7.13"
  }
 },
 "nbformat": 4,
 "nbformat_minor": 2
}
